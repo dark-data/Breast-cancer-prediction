{
 "cells": [
  {
   "cell_type": "code",
   "execution_count": 11,
   "metadata": {},
   "outputs": [
    {
     "name": "stdout",
     "output_type": "stream",
     "text": [
      "The accuracy on the training subset: 0.946\n",
      "The accuracy on the test subset: 0.951\n"
     ]
    }
   ],
   "source": [
    "from sklearn.svm import SVC \n",
    "from sklearn.model_selection import train_test_split\n",
    "from sklearn.datasets import load_breast_cancer\n",
    "\n",
    "cancer = load_breast_cancer()\n",
    "X_train, X_test, y_train, y_test = train_test_split(cancer.data, cancer.target, random_state=0)\n",
    "\n",
    "svm = SVC(gamma='scale')\n",
    "svm.fit(X_train, y_train)\n",
    "\n",
    "print('The accuracy on the training subset: {:.3f}'.format(svm.score(X_train, y_train)))\n",
    "print('The accuracy on the test subset: {:.3f}'.format(svm.score(X_test, y_test)))"
   ]
  },
  {
   "cell_type": "code",
   "execution_count": 12,
   "metadata": {},
   "outputs": [
    {
     "name": "stdout",
     "output_type": "stream",
     "text": [
      "accuracy of training set: 0.946\n",
      "accuracy of test set: 0.951\n",
      "\n",
      "training set length 426\n",
      "number patients affected(malignant) 154\n",
      "number patients not affected(benign) 272\n",
      "\n",
      "testing set length 143\n",
      "number patients affected(malignant) 49\n",
      "number patients not affected(benign) 94\n",
      "\n",
      "number patients affected(malignant) 203\n",
      "number patients not affected(benign) 366\n"
     ]
    }
   ],
   "source": [
    "x=svm.predict(X_train)\n",
    "y=svm.predict(X_test)\n",
    "j=0\n",
    "k=0\n",
    "a=0\n",
    "b=0\n",
    "for i in range(len(X_train)):\n",
    "    if x[i]==1:\n",
    "        j+=1\n",
    "    else:\n",
    "        k+=1\n",
    "\n",
    "        \n",
    "        \n",
    "for i in range(len(X_test)):\n",
    "    if x[i]==1:\n",
    "        a+=1\n",
    "    else:\n",
    "        b+=1\n",
    "\n",
    "        \n",
    "\n",
    "print('accuracy of training set: {:.3f}'.format(svm.score(X_train,y_train)))\n",
    "print('accuracy of test set: {:.3f}'.format((svm.score(X_test,y_test))))\n",
    "\n",
    "print('\\ntraining set length',len(X_train))\n",
    "print('number patients affected(malignant)',k)        \n",
    "print('number patients not affected(benign)',j)\n",
    "\n",
    "\n",
    "\n",
    "print('\\ntesting set length',len(X_test))\n",
    "print('number patients affected(malignant)',b)        \n",
    "print('number patients not affected(benign)',a)\n",
    "print('\\nnumber patients affected(malignant)',k+b)        \n",
    "print('number patients not affected(benign)',j+a)\n"
   ]
  },
  {
   "cell_type": "code",
   "execution_count": null,
   "metadata": {},
   "outputs": [],
   "source": []
  },
  {
   "cell_type": "code",
   "execution_count": null,
   "metadata": {},
   "outputs": [],
   "source": []
  },
  {
   "cell_type": "code",
   "execution_count": null,
   "metadata": {},
   "outputs": [],
   "source": []
  }
 ],
 "metadata": {
  "kernelspec": {
   "display_name": "Python 3",
   "language": "python",
   "name": "python3"
  },
  "language_info": {
   "codemirror_mode": {
    "name": "ipython",
    "version": 3
   },
   "file_extension": ".py",
   "mimetype": "text/x-python",
   "name": "python",
   "nbconvert_exporter": "python",
   "pygments_lexer": "ipython3",
   "version": "3.5.3"
  }
 },
 "nbformat": 4,
 "nbformat_minor": 2
}
